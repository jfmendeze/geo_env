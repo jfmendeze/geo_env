{
 "cells": [
  {
   "cell_type": "markdown",
   "id": "34a30917-40de-4f9a-bbc7-767719c27f9c",
   "metadata": {},
   "source": [
    "## Part 2: Data Pre-Processing"
   ]
  },
  {
   "cell_type": "code",
   "execution_count": 1,
   "id": "a95cfdf4-6747-47d9-b5ff-515f63965a43",
   "metadata": {},
   "outputs": [],
   "source": [
    "# Packages\n",
    "import numpy as np\n",
    "import pandas as pd\n",
    "import matplotlib.pyplot as plt\n",
    "import pdb\n",
    "import xarray as xr\n",
    "import warnings\n",
    "warnings.filterwarnings(\"ignore\")\n",
    "import tools\n",
    "\n",
    "from datetime import datetime\n",
    "import pytz"
   ]
  },
  {
   "cell_type": "code",
   "execution_count": 2,
   "id": "f1728072-316a-44db-bc36-d533ce322928",
   "metadata": {},
   "outputs": [],
   "source": [
    "# Open the nc. file\n",
    "dset = xr.open_dataset('/Users/mendezjf/Downloads/Geo_modeling/Course_Data/ERA5_Data/download.nc')"
   ]
  },
  {
   "cell_type": "code",
   "execution_count": 4,
   "id": "98289b5f-f961-4dc9-84ed-d559030bb972",
   "metadata": {},
   "outputs": [],
   "source": [
    "# Extract the relevant variables from the dataset\n",
    "t2m = np.array(dset.variables['t2m'])\n",
    "tp = np.array(dset.variables['tp'])\n",
    "latitude = np.array(dset.variables['latitude'])\n",
    "longitude = np.array(dset.variables['longitude'])\n",
    "time_dt = np.array(dset.variables['time'])"
   ]
  },
  {
   "cell_type": "code",
   "execution_count": 5,
   "id": "08831a6f-dba1-4da5-a39f-a50c1f7acce6",
   "metadata": {},
   "outputs": [],
   "source": [
    "# To get information about the file\n",
    "#dset"
   ]
  },
  {
   "cell_type": "code",
   "execution_count": 6,
   "id": "64ad8131-128c-4aa8-8859-217d7559cd2d",
   "metadata": {},
   "outputs": [],
   "source": [
    "# To get information about the variables\n",
    "#dset.variables.keys()"
   ]
  },
  {
   "cell_type": "code",
   "execution_count": 7,
   "id": "493f4d23-e6d3-4b47-8a50-dbddcd6a591e",
   "metadata": {},
   "outputs": [],
   "source": [
    "# To get information about the variables\n",
    "#dset.data_vars"
   ]
  },
  {
   "cell_type": "code",
   "execution_count": null,
   "id": "9b91941e-6099-4991-bbd0-63c87791da96",
   "metadata": {},
   "outputs": [],
   "source": [
    "#Convert the air temperature (’t2m’) from K to ◦C \n",
    "t2m = t2m - 273.15\n",
    "#Convert the precipitation (tp) from m/h to mm/h\n",
    "tp = tp * 1000"
   ]
  },
  {
   "cell_type": "code",
   "execution_count": 9,
   "id": "521c8cdd-09e0-4f7b-b802-12aec10716c5",
   "metadata": {},
   "outputs": [],
   "source": [
    "# If the ERA5 dataset has four dimensions, indicating the presence of both final and preliminary\n",
    "# data, compute the mean across the second dimension to simplify the dataset\n",
    "if t2m.ndim == 4:\n",
    "    t2m = np.nanmean(t2m, axis=1)\n",
    "    tp = np.nanmean(tp, axis=1)"
   ]
  },
  {
   "cell_type": "code",
   "execution_count": 13,
   "id": "0720f41c-a896-44f8-8cf6-68e7a0fc9192",
   "metadata": {},
   "outputs": [
    {
     "data": {
      "text/plain": [
       "array([[[297.57144, 297.13165, 296.48718, 295.7786 , 293.15924],\n",
       "        [297.99506, 297.50473, 296.98334, 296.61414, 294.9657 ],\n",
       "        [297.87198, 297.6809 , 297.71588, 297.50668, 295.00522],\n",
       "        [298.08508, 298.27615, 298.33316, 297.8759 , 295.28827],\n",
       "        [298.0715 , 298.42514, 298.52618, 297.79037, 296.03638]],\n",
       "\n",
       "       [[297.5896 , 297.16794, 296.42566, 295.68726, 293.32828],\n",
       "        [297.93353, 297.47818, 296.93152, 296.56815, 294.6464 ],\n",
       "        [297.65436, 297.56433, 297.6835 , 297.4607 , 295.06027],\n",
       "        [297.90826, 298.2224 , 298.34354, 297.8124 , 295.28308],\n",
       "        [298.0119 , 298.42773, 298.52164, 297.7457 , 296.16202]],\n",
       "\n",
       "       [[297.64594, 296.9762 , 295.8725 , 295.0836 , 292.83148],\n",
       "        [297.77484, 297.09732, 296.36865, 296.0111 , 294.06992],\n",
       "        [297.39594, 297.11288, 297.05783, 296.8512 , 294.5544 ],\n",
       "        [297.6071 , 297.79037, 297.66733, 297.07208, 294.69302],\n",
       "        [297.81952, 298.04428, 297.68286, 296.83176, 295.45084]],\n",
       "\n",
       "       ...,\n",
       "\n",
       "       [[300.12927, 300.41037, 299.48868, 298.01385, 295.64258],\n",
       "        [299.84235, 299.97705, 299.19528, 297.93353, 296.29352],\n",
       "        [299.17194, 299.28723, 299.06638, 297.93158, 296.6232 ],\n",
       "        [299.42392, 299.51978, 299.33453, 298.69977, 298.043  ],\n",
       "        [299.58002, 299.7659 , 300.14093, 299.9654 , 299.97122]],\n",
       "\n",
       "       [[300.12927, 300.3987 , 299.21536, 297.4866 , 295.03568],\n",
       "        [299.81253, 299.95892, 299.11948, 297.7172 , 295.93793],\n",
       "        [299.19528, 299.37338, 299.19138, 298.11163, 296.38486],\n",
       "        [299.41614, 299.48285, 299.24255, 298.4925 , 297.39075],\n",
       "        [299.61368, 299.76395, 299.88702, 299.45694, 299.4634 ]],\n",
       "\n",
       "       [[300.75043, 301.7777 , 300.8832 , 298.99835, 296.26373],\n",
       "        [300.23096, 301.17404, 300.6915 , 299.05276, 296.82077],\n",
       "        [299.4278 , 300.2504 , 300.37344, 298.93942, 297.07272],\n",
       "        [299.58194, 300.1837 , 300.1837 , 299.05667, 297.7094 ],\n",
       "        [299.70697, 300.3048 , 300.63126, 300.00037, 299.92395]]],\n",
       "      dtype=float32)"
      ]
     },
     "execution_count": 13,
     "metadata": {},
     "output_type": "execute_result"
    }
   ],
   "source": [
    "df_era5 = pd.DataFrame(index=time_dt)\n",
    "df_era5['t2m'] = t2m[:,3,2]\n",
    "df era5[’tp’] = tp[:,3,2]\n",
    "t2m"
   ]
  },
  {
   "cell_type": "code",
   "execution_count": null,
   "id": "53876617-1f2d-46e9-8182-0b184720ded2",
   "metadata": {},
   "outputs": [],
   "source": [
    "# Define the location of the Wadi Murwani reservoir\n",
    "selected_location = dset.sel(latitude = 22, longitude = 39.5, method = 'nearest')"
   ]
  },
  {
   "cell_type": "code",
   "execution_count": null,
   "id": "e210d50c-6678-4285-8fc7-e1664bb5bbf1",
   "metadata": {},
   "outputs": [],
   "source": [
    "# Create a single figure with two subplots\n",
    "fig, axes = plt.subplots(nrows=2, ncols=1, figsize=(12, 6))\n",
    "\n",
    "# Plot Temperature on the first subplot\n",
    "axes[0].plot(selected_location['time'], selected_location['t2m'], label='T [°C]', color='orange')\n",
    "axes[0].set_title('Temperature Time Series')\n",
    "axes[0].set_xlabel('Time')\n",
    "axes[0].set_ylabel('Temperature [°C]')\n",
    "axes[0].legend()\n",
    "axes[0].grid(True)\n",
    "\n",
    "# Plot Precipitation on the second subplot\n",
    "axes[1].plot(selected_location['time'], selected_location['tp'], label='P [mm]', color='blue')\n",
    "axes[1].set_title('Precipitation Time Series')\n",
    "axes[1].set_xlabel('Time')\n",
    "axes[1].set_ylabel('Precipitation [mm]')\n",
    "axes[1].legend()\n",
    "axes[1].grid(True)\n",
    "\n",
    "# Adjust layout to prevent overlapping titles and labels\n",
    "plt.tight_layout()\n",
    "\n",
    "# Show the combined figure with subplots\n",
    "plt.show()"
   ]
  },
  {
   "cell_type": "code",
   "execution_count": null,
   "id": "e92e3028-98b2-4726-befe-e00476530fce",
   "metadata": {},
   "outputs": [],
   "source": [
    "######### Creates two separate figures\n",
    "## Figure 1: Temperature\n",
    "#plt.figure(figsize=(10, 6))\n",
    "#plt.plot(selected_location['time'], selected_location['t2m'], label='T [°C]', color='blue')\n",
    "#plt.title('Temperature Time Series at Wadi Murwani Reservoir')\n",
    "#plt.xlabel('Time')\n",
    "#plt.ylabel('Temperature [°C]')\n",
    "#plt.legend()\n",
    "#plt.grid(True)\n",
    "#plt.show()\n",
    "#\n",
    "## Figure 2: Precipitation\n",
    "#plt.figure(figsize=(10, 6))\n",
    "#plt.plot(selected_location['time'], selected_location['tp'], label='P [mm]', color='orange')\n",
    "#plt.title('Precipitation Time Series at Wadi Murwani Reservoir')\n",
    "#plt.xlabel('Time')\n",
    "#plt.ylabel('Precipitation [mm]')\n",
    "#plt.legend()\n",
    "#plt.grid(True)\n",
    "#plt.show()"
   ]
  },
  {
   "cell_type": "code",
   "execution_count": null,
   "id": "e276be4d-cafb-46bd-ab81-09bfed2e0b84",
   "metadata": {},
   "outputs": [],
   "source": [
    "plt.figure(figsize = (10,6))\n",
    "selected_location['t2m'].plot.line(x = 'time',color = 'orange',label = 'Temperature [degrees C]')\n",
    "plt.ylabel('Temperature [degrees C]')\n",
    "plt.twinx()\n",
    "selected_location['tp'].plot.line(x = 'time',color = 'blue',label = 'Precipitation [mm]')\n",
    "plt.ylabel('Precipitation [mm]')\n",
    "\n",
    "plt.suptitle('Temperature and Precipitation Time Series at Wadi Murwani Reservoir')\n",
    "plt.legend()\n",
    "#plt.savefig('T-P_time_series_Murwani_Reservoir.png')\n",
    "plt.show()"
   ]
  },
  {
   "cell_type": "code",
   "execution_count": null,
   "id": "0df2ff75-40dc-44e1-b32c-8c42ab755412",
   "metadata": {},
   "outputs": [],
   "source": [
    "# What is the temporal range covered by this ERA5 data?\n",
    "dset.time.var"
   ]
  },
  {
   "cell_type": "code",
   "execution_count": null,
   "id": "e81c6c47-ee73-45fc-b4ec-5b59e4480a60",
   "metadata": {},
   "outputs": [],
   "source": [
    "#What is the average annual precipitation? Resample the data to annual time step and calculate the mean precipitation using this command\n",
    "annual_precip = dset['tp'].resample(time='A').mean()\n",
    "\n",
    "\n",
    "# Plot the annual precipitation\n",
    "plt.figure(figsize=(10, 6))\n",
    "annual_precip.plot(color='blue', label='Annual Mean Precipitation [mm]')\n",
    "plt.xlabel('Time')\n",
    "plt.ylabel('Precipitation [mm]')\n",
    "plt.title('Annual mean precipitation ')\n",
    "plt.legend()\n",
    "plt.grid(True)\n",
    "#plt.savefig('Annual_Precipitation_Murwani_Reservoir.png')\n",
    "plt.show()"
   ]
  },
  {
   "cell_type": "code",
   "execution_count": null,
   "id": "90b524f3-8250-4317-8321-509af91a01e4",
   "metadata": {},
   "outputs": [],
   "source": [
    "# Do you notice any trends in the time series for air temperature and/or precipitation?"
   ]
  },
  {
   "cell_type": "code",
   "execution_count": null,
   "id": "3fb3dc54-1a66-4bb6-a1b1-f6fe49757836",
   "metadata": {},
   "outputs": [],
   "source": [
    "#How reliable do think the data on precipitation and air temperature are? Discuss whether one might be more reliable than the other."
   ]
  },
  {
   "cell_type": "markdown",
   "id": "14894bf6-b123-4c3d-a6fb-fe4ec8831034",
   "metadata": {},
   "source": [
    "## Part 3: Calculation of Potential Evaporation (PE)"
   ]
  },
  {
   "cell_type": "code",
   "execution_count": null,
   "id": "ea2c83f1-ef72-4f5c-9691-1d4f9fd70d14",
   "metadata": {},
   "outputs": [],
   "source": [
    "# inputs for the function from the hourly ERA5 data:\n",
    "tmin = dset[’t2m’].resample(time=’D’).min().values\n",
    "tmax = dset[’t2m’].resample(time=’D’).max().values\n",
    "tmean = dset[’t2m’].resample(time=’D’).mean().values\n",
    "lat = 21.25\n",
    "doy = (dset[’t2m’].resample(time=’D’).mean().time).dt.dayofyear.values"
   ]
  },
  {
   "cell_type": "code",
   "execution_count": null,
   "id": "6370d7e3-1cb5-4ea6-8b3f-6e5e54eeb3dd",
   "metadata": {},
   "outputs": [],
   "source": [
    "# Compute the PE using:\n",
    "import tools\n",
    "pe = tools.hargreaves samani 1982(tmin, tmax, tmean, lat, doy)"
   ]
  },
  {
   "cell_type": "code",
   "execution_count": null,
   "id": "8b716549-d342-4117-b3bf-0ad2f3a7824e",
   "metadata": {},
   "outputs": [],
   "source": [
    "# Plot the PE time series\n",
    "time index = pd.to datetime(time.values)\n",
    "plt.figure(figsize=(10, 6), tight layout=True)\n",
    "plt.plot(time index, pe, label=’Potential Evaporation’)\n",
    "plt.xlabel(’Date’)\n",
    "plt.ylabel(’PE [mm day−1]’)\n",
    "plt.title(’Potential Evaporation Time Series’)\n",
    "plt.grid(True)"
   ]
  },
  {
   "cell_type": "code",
   "execution_count": null,
   "id": "bfb4f224-9507-43e2-9a29-2ed12e61a95f",
   "metadata": {},
   "outputs": [],
   "source": [
    "# What is the mean annual PE in mm year−1?\n",
    "pe_series = pd.Series(pe, index=time index)\n",
    "annual mean pe = pe series.resample(’A’).mean()\n",
    "mean annual pe = annual mean pe.mean()"
   ]
  },
  {
   "cell_type": "markdown",
   "id": "6e5baadf-243f-48a6-969a-f26428c550d8",
   "metadata": {},
   "source": [
    "Based on the mean annual PE, what is the volume of water potentially lost from the reservoir\n",
    "through evaporation annually? Assume the reservoir covers an area of 1.6 km2, as\n",
    "determined from satellite imagery from December 12, 2023. Note that the PE calculated\n",
    "using the Hargreaves and Samani (1985) method is representative of a grass reference\n",
    "surface. To adjust this PE for open water surfaces like reservoirs, a surface coefficient, often\n",
    "called a crop coefficient in agricultural contexts, should be applied. However, for the\n",
    "purposes of this assignment, we will ignore this to keep things relatively simple."
   ]
  },
  {
   "cell_type": "code",
   "execution_count": null,
   "id": "8bfd9d47-3df9-4e3a-a95f-8511d7137bfc",
   "metadata": {},
   "outputs": [],
   "source": [
    "# Do you think evaporation from open water is generally higher or lower than evaporation from a grass surface?"
   ]
  },
  {
   "cell_type": "markdown",
   "id": "dbb38834-eec8-4a60-886a-bb896bb4a1a2",
   "metadata": {},
   "source": [
    "Do you consider 1.6 km2 to be a good estimate for the average area of the reservoir? Use\n",
    "the EO Browser to answer this question."
   ]
  },
  {
   "cell_type": "code",
   "execution_count": null,
   "id": "da6a3ecb-0a24-4b2e-aad7-8ec871e83e92",
   "metadata": {},
   "outputs": [],
   "source": []
  }
 ],
 "metadata": {
  "kernelspec": {
   "display_name": "Python 3",
   "language": "python",
   "name": "python3"
  },
  "language_info": {
   "codemirror_mode": {
    "name": "ipython",
    "version": 3
   },
   "file_extension": ".py",
   "mimetype": "text/x-python",
   "name": "python",
   "nbconvert_exporter": "python",
   "pygments_lexer": "ipython3",
   "version": "3.8.8"
  }
 },
 "nbformat": 4,
 "nbformat_minor": 5
}
